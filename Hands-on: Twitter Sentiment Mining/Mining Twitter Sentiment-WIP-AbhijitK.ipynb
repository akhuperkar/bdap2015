{
 "cells": [
  {
   "cell_type": "markdown",
   "metadata": {},
   "source": [
    "Please fill up the following\n",
    "* **Student Name:** Abhijit Khuperkar\n",
    "* **Student ID:** 10150121\n",
    "* **Student Email ID:** abhijit.bdapm10150121@spjain.org\n",
    "* **Student GitHub Repo:** https://github.com/akhuperkar"
   ]
  },
  {
   "cell_type": "markdown",
   "metadata": {},
   "source": [
    "## The Assignment\n",
    "1. Write a blog post on how to use **OR** operator for find queries in mongodb.\n",
    "2. Feed negative and positive tweets to the classification function for training. (using the Sentiment140 dataset)\n",
    "3. Crawl all followers of ***naveen_odisha***, Odisha CM (note: you'll have to pay attention to rate limiting)\n",
    "4. Crawl all followers of SRK. How can you calculate if this is feasible or not? (show the math)\n",
    "5. Predict the sentiment of tweets by followers of ***naveen_odisha*** "
   ]
  },
  {
   "cell_type": "markdown",
   "metadata": {},
   "source": [
    "Q1. Write a blog post on how to use **OR** operator for find queries in mongodb."
   ]
  },
  {
   "cell_type": "markdown",
   "metadata": {},
   "source": [
    "To be written"
   ]
  },
  {
   "cell_type": "markdown",
   "metadata": {},
   "source": [
    "Q2. Feed negative and positive tweets to the classification function for training. (using the Sentiment140 dataset)"
   ]
  },
  {
   "cell_type": "code",
   "execution_count": 1,
   "metadata": {
    "collapsed": false
   },
   "outputs": [
    {
     "name": "stdout",
     "output_type": "stream",
     "text": [
      "(['...'], 'positive')\n",
      "(['...'], 'positive')\n",
      "(['...'], 'positive')\n",
      "(['...'], 'positive')\n",
      "(['...'], 'positive')\n",
      "(['...'], 'negative')\n",
      "(['...'], 'negative')\n",
      "(['...'], 'negative')\n",
      "(['...'], 'negative')\n",
      "(['...'], 'negative')\n",
      "Most Informative Features\n",
      "           contains(...) = True           negati : positi =      1.0 : 1.0\n",
      "None\n",
      "Tweet: RT @MargoWa21483274: @moriya19631 thank you for tweet and Happy New Year \n",
      " Sentiment: positive \n",
      "\n",
      "Tweet: RT @iKusalSanjeeva: Happy New Year guys!! ❤️💖💛💙💚💜💞 Have a wonderful 2016 ahead!! ❤️😊 https://t.co/AKWbeEExRQ \n",
      " Sentiment: positive \n",
      "\n",
      "Tweet: @Emerald_dom happy new year gorgeous. This is your year princess emerald like the last one was \n",
      " Sentiment: positive \n",
      "\n",
      "Tweet: Such a good time last night. I love you so much @simonford14. Happy… https://t.co/1cOTjsMV5f \n",
      " Sentiment: positive \n",
      "\n",
      "Tweet: RT @GraysonDolan: HAPPY NEW YEAR EAST COAST!!!! \n",
      " Sentiment: positive \n",
      "\n",
      "Tweet: Happy new year humanity. Be good to each other and above all to everything else with which we share this wonder. \n",
      " Sentiment: positive \n",
      "\n",
      "Tweet: Happy new year ya'al Bloved ones! Wish u sweet &amp; better life al tru dis year!! Love you Loads! #starting2016 \n",
      " Sentiment: positive \n",
      "\n",
      "Tweet: RT @happylilcamgirl: Happy New Year, guys. :) \n",
      " Sentiment: positive \n",
      "\n",
      "Tweet: RT @priyankachopra: Watching the world go by thru rose tinted glasses.. Happy 2016.... Here’s to New beginnings.. And happiness https://t.c… \n",
      " Sentiment: positive \n",
      "\n",
      "Tweet: HAPPY NEW YEAR :) \n",
      " Sentiment: positive \n",
      "\n",
      "Tweet: ⭐️🍾 HAPPY NEW YEAR FROM EVERYONE AT MOOMOO! 🍾⭐️\n",
      "That was some party last night Cheltenham! Midnight countdown video coming later today! 🍾⭐️ \n",
      " Sentiment: positive \n",
      "\n",
      "Tweet: RT @TED_MOVIE2013: Happy New Yearーーー!! \n",
      "2016年がいよいよスタート！\n",
      "テッド2Blu-ray＆DVDの発売は1月20日です！お忘れなく！！ https://t.co/1uCyZ2fRf9 \n",
      " Sentiment: positive \n",
      "\n",
      "Tweet: RT @honestkpopstan: The group that do not bother being captured by camera but instead doing group hug to conclude 2015. Happy New Year ! ht… \n",
      " Sentiment: positive \n",
      "\n",
      "Tweet: RT @Michelin: Happy New Year to all our followers!  https://t.co/IIZHR0fEqX \n",
      " Sentiment: positive \n",
      "\n",
      "Tweet: Big thanks to everyone who helped make NYE at the Vic a thoroughly marvellous one. Here's to a happy &amp; fruitful 2016. 󾦇󾦂󾦆󾀍 \n",
      " Sentiment: positive \n",
      "\n"
     ]
    }
   ],
   "source": [
    "import nltk\n",
    "import os\n",
    "from twython import Twython\n",
    "\n",
    "def bagOfWords(tweets):\n",
    "    wordsList = []\n",
    "    for (words, sentiment) in tweets:\n",
    "        wordsList.extend(words)\n",
    "    return wordsList\n",
    "\n",
    "def wordFeatures(wordList):\n",
    "    wordList = nltk.FreqDist(wordList)\n",
    "    wordFeatures = wordList.keys()\n",
    "    return wordFeatures\n",
    "\n",
    "def getFeatures(doc):\n",
    "    docWords = set(doc)\n",
    "    feat = {}\n",
    "    for word in wordFeatures:\n",
    "        feat['contains(%s)' % word] = (word in docWords)\n",
    "    return feat\n",
    "\n",
    "positiveTweets = [('...', 'positive'),\n",
    "              ('...', 'positive'),\n",
    "              ('...', 'positive'),\n",
    "              ('...', 'positive'),\n",
    "              ('...', 'positive')]\n",
    "\n",
    "negativeTweets = [('...', 'negative'),\n",
    "              ('...', 'negative'),\n",
    "              ('...', 'negative'),\n",
    "              ('...', 'negative'),\n",
    "              ('...', 'negative')]\n",
    "\n",
    "tweets = []\n",
    "for (words, sentiment) in positiveTweets + negativeTweets:\n",
    "    words_filtered = [e.lower() for e in nltk.word_tokenize(words) if len(e) >= 3]\n",
    "    tweets.append((words_filtered, sentiment))\n",
    "\n",
    "for t in tweets:\n",
    "    print(t)\n",
    "\n",
    "wordFeatures = wordFeatures(bagOfWords(tweets))\n",
    "\n",
    "training_set = nltk.classify.apply_features(getFeatures, tweets)\n",
    "\n",
    "classifier = nltk.NaiveBayesClassifier.train(training_set)\n",
    "\n",
    "print(classifier.show_most_informative_features(32))\n",
    "\n",
    "TWITTER_CONSUMER_KEY = os.environ[\"TWITTER_CONSUMER_KEY\"]\n",
    "TWITTER_CONSUMER_SECRET = os.environ[\"TWITTER_CONSUMER_SECRET\"]\n",
    "TWITTER_ACCESS_TOKEN = os.environ[\"TWITTER_ACCESS_TOKEN\"]\n",
    "TWITTER_ACCESS_TOKEN_SECRET = os.environ[\"TWITTER_ACCESS_TOKEN_SECRET\"]\n",
    "\n",
    "twitter = Twython(TWITTER_CONSUMER_KEY, TWITTER_CONSUMER_SECRET, TWITTER_ACCESS_TOKEN, TWITTER_ACCESS_TOKEN_SECRET)\n",
    "\n",
    "queryText = \"happy\"\n",
    "result = twitter.search(q=queryText)\n",
    "\n",
    "for status in result[\"statuses\"]:\n",
    "    print(\"Tweet: {0} \\n Sentiment: {1} \\n\".format(status[\"text\"].encode(\"utf-8\"), classifier.classify(getFeatures(status[\"text\"].encode(\"utf-8\").split()))))"
   ]
  },
  {
   "cell_type": "markdown",
   "metadata": {},
   "source": [
    "Q3. Crawl all followers of ***naveen_odisha***, Odisha CM (note: you'll have to pay attention to rate limiting)"
   ]
  },
  {
   "cell_type": "code",
   "execution_count": 2,
   "metadata": {
    "collapsed": false
   },
   "outputs": [
    {
     "name": "stdout",
     "output_type": "stream",
     "text": [
      "Sucessfully logged in\n"
     ]
    },
    {
     "ename": "KeyboardInterrupt",
     "evalue": "",
     "output_type": "error",
     "traceback": [
      "\u001b[1;31m---------------------------------------------------------------------------\u001b[0m",
      "\u001b[1;31mKeyboardInterrupt\u001b[0m                         Traceback (most recent call last)",
      "\u001b[1;32m<ipython-input-2-c7a7baca425a>\u001b[0m in \u001b[0;36m<module>\u001b[1;34m()\u001b[0m\n\u001b[0;32m     21\u001b[0m \u001b[1;32mfor\u001b[0m \u001b[0mpage\u001b[0m \u001b[1;32min\u001b[0m \u001b[0muser\u001b[0m\u001b[1;33m:\u001b[0m\u001b[1;33m\u001b[0m\u001b[0m\n\u001b[0;32m     22\u001b[0m     \u001b[0mnames\u001b[0m\u001b[1;33m.\u001b[0m\u001b[0mextend\u001b[0m\u001b[1;33m(\u001b[0m\u001b[0mpage\u001b[0m\u001b[1;33m)\u001b[0m\u001b[1;33m\u001b[0m\u001b[0m\n\u001b[1;32m---> 23\u001b[1;33m     \u001b[0mtime\u001b[0m\u001b[1;33m.\u001b[0m\u001b[0msleep\u001b[0m\u001b[1;33m(\u001b[0m\u001b[1;36m60\u001b[0m\u001b[1;33m)\u001b[0m\u001b[1;33m\u001b[0m\u001b[0m\n\u001b[0m\u001b[0;32m     24\u001b[0m \u001b[1;33m\u001b[0m\u001b[0m\n\u001b[0;32m     25\u001b[0m \u001b[1;32mprint\u001b[0m\u001b[1;33m(\u001b[0m\u001b[0mnames\u001b[0m\u001b[1;33m)\u001b[0m\u001b[1;33m\u001b[0m\u001b[0m\n",
      "\u001b[1;31mKeyboardInterrupt\u001b[0m: "
     ]
    }
   ],
   "source": [
    "import os\n",
    "import time\n",
    "import tweepy\n",
    "\n",
    "TWITTER_CONSUMER_KEY = os.environ[\"TWITTER_CONSUMER_KEY\"]\n",
    "TWITTER_CONSUMER_SECRET = os.environ[\"TWITTER_CONSUMER_SECRET\"]\n",
    "TWITTER_ACCESS_TOKEN = os.environ[\"TWITTER_ACCESS_TOKEN\"]\n",
    "TWITTER_ACCESS_TOKEN_SECRET = os.environ[\"TWITTER_ACCESS_TOKEN_SECRET\"]\n",
    "\n",
    "auth = tweepy.auth.OAuthHandler(TWITTER_CONSUMER_KEY, TWITTER_CONSUMER_SECRET)\n",
    "auth.set_access_token(TWITTER_ACCESS_TOKEN, TWITTER_ACCESS_TOKEN_SECRET)\n",
    "api = tweepy.API(auth)\n",
    "\n",
    "names = []\n",
    "\n",
    "if(api.verify_credentials):\n",
    "    print 'Sucessfully logged in'\n",
    "\n",
    "user = tweepy.Cursor(api.followers, screen_name=\"naveen_odisha\").pages()\n",
    "\n",
    "for page in user: \n",
    "    names.extend(page)\n",
    "    time.sleep(60)\n",
    "        \n",
    "print(names)"
   ]
  },
  {
   "cell_type": "markdown",
   "metadata": {},
   "source": [
    "Q4. Crawl all followers of SRK. How can you calculate if this is feasible or not? (show the math)"
   ]
  },
  {
   "cell_type": "code",
   "execution_count": 3,
   "metadata": {
    "collapsed": false
   },
   "outputs": [
    {
     "name": "stdout",
     "output_type": "stream",
     "text": [
      "Sucessfully logged in\n"
     ]
    },
    {
     "ename": "KeyboardInterrupt",
     "evalue": "",
     "output_type": "error",
     "traceback": [
      "\u001b[1;31m---------------------------------------------------------------------------\u001b[0m",
      "\u001b[1;31mKeyboardInterrupt\u001b[0m                         Traceback (most recent call last)",
      "\u001b[1;32m<ipython-input-3-f45ccd58aa53>\u001b[0m in \u001b[0;36m<module>\u001b[1;34m()\u001b[0m\n\u001b[0;32m     21\u001b[0m \u001b[1;32mfor\u001b[0m \u001b[0mpage\u001b[0m \u001b[1;32min\u001b[0m \u001b[0muser\u001b[0m\u001b[1;33m:\u001b[0m\u001b[1;33m\u001b[0m\u001b[0m\n\u001b[0;32m     22\u001b[0m     \u001b[0mnames\u001b[0m\u001b[1;33m.\u001b[0m\u001b[0mextend\u001b[0m\u001b[1;33m(\u001b[0m\u001b[0mpage\u001b[0m\u001b[1;33m)\u001b[0m\u001b[1;33m\u001b[0m\u001b[0m\n\u001b[1;32m---> 23\u001b[1;33m     \u001b[0mtime\u001b[0m\u001b[1;33m.\u001b[0m\u001b[0msleep\u001b[0m\u001b[1;33m(\u001b[0m\u001b[1;36m60\u001b[0m\u001b[1;33m)\u001b[0m\u001b[1;33m\u001b[0m\u001b[0m\n\u001b[0m\u001b[0;32m     24\u001b[0m \u001b[1;33m\u001b[0m\u001b[0m\n\u001b[0;32m     25\u001b[0m \u001b[1;32mprint\u001b[0m\u001b[1;33m(\u001b[0m\u001b[0mnames\u001b[0m\u001b[1;33m)\u001b[0m\u001b[1;33m\u001b[0m\u001b[0m\n",
      "\u001b[1;31mKeyboardInterrupt\u001b[0m: "
     ]
    }
   ],
   "source": [
    "import os\n",
    "import time\n",
    "import tweepy\n",
    "\n",
    "TWITTER_CONSUMER_KEY = os.environ[\"TWITTER_CONSUMER_KEY\"]\n",
    "TWITTER_CONSUMER_SECRET = os.environ[\"TWITTER_CONSUMER_SECRET\"]\n",
    "TWITTER_ACCESS_TOKEN = os.environ[\"TWITTER_ACCESS_TOKEN\"]\n",
    "TWITTER_ACCESS_TOKEN_SECRET = os.environ[\"TWITTER_ACCESS_TOKEN_SECRET\"]\n",
    "\n",
    "auth = tweepy.auth.OAuthHandler(TWITTER_CONSUMER_KEY, TWITTER_CONSUMER_SECRET)\n",
    "auth.set_access_token(TWITTER_ACCESS_TOKEN, TWITTER_ACCESS_TOKEN_SECRET)\n",
    "api = tweepy.API(auth)\n",
    "\n",
    "names = []\n",
    "\n",
    "if(api.verify_credentials):\n",
    "    print 'Sucessfully logged in'\n",
    "\n",
    "user = tweepy.Cursor(api.followers, screen_name=\"iamsrk\").pages()\n",
    "\n",
    "for page in user: \n",
    "    names.extend(page)\n",
    "    time.sleep(60)\n",
    "        \n",
    "print(names)"
   ]
  },
  {
   "cell_type": "markdown",
   "metadata": {},
   "source": [
    "Q5. Predict the sentiment of tweets by followers of ***naveen_odisha*** "
   ]
  },
  {
   "cell_type": "markdown",
   "metadata": {},
   "source": [
    "To be done"
   ]
  }
 ],
 "metadata": {
  "kernelspec": {
   "display_name": "Python 2",
   "language": "python",
   "name": "python2"
  },
  "language_info": {
   "codemirror_mode": {
    "name": "ipython",
    "version": 2
   },
   "file_extension": ".py",
   "mimetype": "text/x-python",
   "name": "python",
   "nbconvert_exporter": "python",
   "pygments_lexer": "ipython2",
   "version": "2.7.10"
  }
 },
 "nbformat": 4,
 "nbformat_minor": 0
}
